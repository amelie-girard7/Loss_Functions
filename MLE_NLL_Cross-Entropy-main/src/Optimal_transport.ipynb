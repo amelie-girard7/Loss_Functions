{
 "cells": [
  {
   "cell_type": "code",
   "execution_count": 1,
   "metadata": {},
   "outputs": [
    {
     "name": "stdout",
     "output_type": "stream",
     "text": [
      "Optimal Assignment Indices: [0 1 2 3] [0 1 2 3]\n",
      "Optimal Transport Distance: 0.0\n"
     ]
    }
   ],
   "source": [
    "import numpy as np\n",
    "from scipy.optimize import linear_sum_assignment\n",
    "\n",
    "# Simulated word embeddings for 4 words in each sentence, with 3-dimensional embeddings\n",
    "# In practice, these could be 300-dimensional GloVe or Word2Vec embeddings\n",
    "target_sentence = np.array([[0.1, 0.2, 0.3],\n",
    "                            [0.4, 0.3, 0.2],\n",
    "                            [0.5, 0.6, 0.7],\n",
    "                            [0.8, 0.9, 0.7]])\n",
    "\n",
    "generated_sentence = np.array([[0.1, 0.2, 0.3],\n",
    "                               [0.4, 0.3, 0.2],\n",
    "                               [0.5, 0.6, 0.7],\n",
    "                               [0.8, 0.9, 0.7]])\n",
    "\n",
    "# Compute the cost matrix: Euclidean distance between each pair of word embeddings\n",
    "cost_matrix = np.sum((target_sentence[:, np.newaxis, :] - generated_sentence[np.newaxis, :, :]) ** 2, axis=2)\n",
    "\n",
    "# Use the Hungarian algorithm to find the optimal assignment of target words to generated words\n",
    "row_ind, col_ind = linear_sum_assignment(cost_matrix)\n",
    "\n",
    "# Earth Mover's Distance (EMD) or Optimal Transport (OT) distance is the sum of the costs of these optimal assignments\n",
    "emd = cost_matrix[row_ind, col_ind].sum()\n",
    "\n",
    "print(\"Optimal Assignment Indices:\", row_ind, col_ind)\n",
    "print(\"Optimal Transport Distance:\", emd)\n"
   ]
  }
 ],
 "metadata": {
  "kernelspec": {
   "display_name": "venv",
   "language": "python",
   "name": "python3"
  },
  "language_info": {
   "codemirror_mode": {
    "name": "ipython",
    "version": 3
   },
   "file_extension": ".py",
   "mimetype": "text/x-python",
   "name": "python",
   "nbconvert_exporter": "python",
   "pygments_lexer": "ipython3",
   "version": "3.11.4"
  },
  "orig_nbformat": 4
 },
 "nbformat": 4,
 "nbformat_minor": 2
}
